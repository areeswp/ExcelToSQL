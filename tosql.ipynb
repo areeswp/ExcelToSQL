{
 "cells": [
  {
   "cell_type": "code",
   "execution_count": null,
   "metadata": {},
   "outputs": [],
   "source": [
    "import pandas as pd\n",
    "import numpy as np\n",
    "# import dataframe gastos\n",
    "df = pd.read_excel(\"gastosPY.xlsx\")\n",
    "#lista as colunas\n",
    "df.columns"
   ]
  },
  {
   "cell_type": "code",
   "execution_count": null,
   "metadata": {},
   "outputs": [],
   "source": [
    "from collections import defaultdict\n",
    "# cria uma coluna de id, se não existir\n",
    "try:\n",
    "    df.insert(5, \"id_accounts\", np.nan) # o primeiro argumento da função é o número da coluna onde vai ser inserida\n",
    "except:\n",
    "    pass\n",
    "# cria uma variável com a função defaultdict, para a criação das ids. É necessário o len(temp)+1 para o primeiro id ser 1.\n",
    "temp = defaultdict(lambda: len(temp)+1)\n",
    "# loop adicionando os ids conforme o elemento na coluna de destino\n",
    "df[\"id_accounts\"] = [temp[ele] for ele in df[\"accounts\"]]\n",
    "# passa os valores únicos de id para outro dataframe (sem valores nulos nem duplicados)\n",
    "account_df = df[['id_accounts', 'accounts']].dropna().drop_duplicates()\n",
    "# formatação PostgreSQL e loop com o print dos resultados para conferência\n",
    "print(\"INSERT INTO accounts\\n\\t\\tVALUES\", end=\" \")\n",
    "for i in account_df.index:\n",
    "    print(\"(\", account_df[\"id_accounts\"][i],\", '\", df[\"accounts\"][i], sep= \"\", end=\"'),\\n\\t\\t\")\n",
    "print (\";\")"
   ]
  },
  {
   "cell_type": "code",
   "execution_count": null,
   "metadata": {},
   "outputs": [],
   "source": [
    "# cria uma coluna de id, se não existir\n",
    "try:\n",
    "    df.insert(3, \"id_buytypes\", np.nan) # o primeiro argumento da função é o número da coluna onde vai ser inserida\n",
    "except:\n",
    "    pass\n",
    "#buytype_df = df[[\"id_buytype\", \"buytype\"]]\n",
    "# cria uma variável com a função defaultdict, para a criação das ids. É necessário outra variável temp para que o id não seja a continuação do anterior.\n",
    "temp1 = defaultdict(lambda: len(temp1)+1)\n",
    "# loop adicionando os ids conforme o elemento na coluna de destino\n",
    "df[\"id_buytypes\"] = [temp1[ele] for ele in df[\"buytypes\"]]\n",
    "# passa os valores únicos de id para outro dataframe (sem valores nulos nem duplicados)\n",
    "buytype_df = df[[\"id_buytypes\", \"buytypes\"]].dropna().drop_duplicates()\n",
    "# formatação PostgreSQL e loop com o print dos resultados para conferência\n",
    "print(\"INSERT INTO buytypes\\n\\t\\tVALUES\", end=\" \")\n",
    "for i in buytype_df.index:\n",
    "    print(\"(\", df[\"id_buytypes\"][i],\", '\", df[\"buytypes\"][i], sep= \"\", end=\"'),\\n\\t\\t\")\n",
    "print (\";\")"
   ]
  },
  {
   "cell_type": "code",
   "execution_count": null,
   "metadata": {},
   "outputs": [],
   "source": [
    "# cria uma coluna de id, se não existir\n",
    "try:\n",
    "    df.insert(1, \"id_categories\", np.nan) # o primeiro argumento da função é o número da coluna onde vai ser inserida\n",
    "except:\n",
    "    pass\n",
    "# cria uma variável com a função defaultdict, para a criação das ids. É necessário outra variável temp para que o id não seja a continuação do anterior.\n",
    "temp3 = defaultdict(lambda: len(temp3)+1)\n",
    "# loop adicionando os ids conforme o elemento na coluna de destino\n",
    "df[\"id_categories\"] = [temp3[ele] for ele in df[\"categories\"]]\n",
    "# passa os valores únicos de id para outro dataframe (sem valores nulos nem duplicados)\n",
    "categories_df = df[[\"id_categories\", \"categories\"]].dropna().drop_duplicates()\n",
    "# formatação PostgreSQL e loop com o print dos resultados para conferência\n",
    "print(\"INSERT INTO categories\\n\\t\\tVALUES\", end=\" \")\n",
    "for i in categories_df.index:\n",
    "    print(\"(\", df[\"id_categories\"][i],\", '\", df[\"categories\"][i], sep= \"\", end=\"'),\\n\\t\\t\")\n",
    "print (\";\")"
   ]
  },
  {
   "cell_type": "code",
   "execution_count": null,
   "metadata": {},
   "outputs": [],
   "source": [
    "# cria uma coluna de id, se não existir\n",
    "try:\n",
    "    df.insert(6, \"id_destinations\", np.nan) # o primeiro argumento da função é o número da coluna onde vai ser inserida\n",
    "except:\n",
    "    pass\n",
    "# cria uma variável com a função defaultdict, para a criação das ids. É necessário outra variável temp para que o id não seja a continuação do anterior.\n",
    "temp4 = defaultdict(lambda: len(temp4)+1)\n",
    "# loop adicionando os ids conforme o elemento na coluna de destino\n",
    "df[\"id_destinations\"] = [temp4[ele] for ele in df[\"destinations\"]]\n",
    "# passa os valores únicos de id para outro dataframe (sem valores nulos nem duplicados)\n",
    "destinations_df = df[[\"id_destinations\", \"destinations\"]].dropna().drop_duplicates()\n",
    "# formatação PostgreSQL e loop com o print dos resultados para conferência\n",
    "print(\"INSERT INTO destinations\\n\\t\\tVALUES\", end=\" \")\n",
    "for i in destinations_df.index:\n",
    "    print(\"(\", df[\"id_destinations\"][i],\", '\", df[\"destinations\"][i], sep= \"\", end=\"'),\\n\\t\\t\")\n",
    "print (\";\")"
   ]
  },
  {
   "cell_type": "code",
   "execution_count": null,
   "metadata": {},
   "outputs": [],
   "source": [
    "# cria uma coluna de id, se não existir\n",
    "try:\n",
    "    df.insert(3, \"id_products\", np.nan) # o primeiro argumento da função é o número da coluna onde vai ser inserida\n",
    "except:\n",
    "    pass\n",
    "# cria outra variável com a função defaultdict, para a criação das ids. É necessário outra variável temp para que o id não seja a continuação do anterior.\n",
    "temp5 = defaultdict(lambda: len(temp5)+1)\n",
    "# loop adicionando os ids conforme o elemento na coluna de produto\n",
    "df[\"id_products\"] = [temp5[ele] for ele in df[\"products\"]]\n",
    "# passa os valores únicos de id para outro dataframe (sem valores nulos nem duplicados)\n",
    "products_df = df[[\"id_products\", \"products\"]].dropna().drop_duplicates()\n",
    "# formatação PostgreSQL e loop com o print dos resultados para conferência\n",
    "print(\"INSERT INTO products\\n\\t\\tVALUES\", end=\" \")\n",
    "for i in products_df.index:\n",
    "    print(\"(\", products_df[\"id_products\"][i],\", '\", products_df[\"products\"][i], sep= \"\", end=\"'),\\n\\t\\t\")\n",
    "print (\";\")"
   ]
  },
  {
   "cell_type": "markdown",
   "metadata": {},
   "source": [
    "# também é possível utilizar os seguintes comandos para criar um arquivo csv e conferir os resultados:\n",
    "\n",
    "productFrame = pd.DataFrame.from_dict(product_df)\n",
    "\n",
    "productFrame.to_csv('product_df.csv', index = False)"
   ]
  },
  {
   "cell_type": "code",
   "execution_count": null,
   "metadata": {},
   "outputs": [],
   "source": [
    "# cria uma coluna de id, se não existir, e a preenche\n",
    "try: \n",
    "    df.insert(0, \"id\", np.nan) # o primeiro argumento da função é o número da coluna onde vai ser inserida\n",
    "except:\n",
    "    pass\n",
    "df[\"id\"] = df.index+1\n",
    "# formatação PostgreSQL e loop com o print dos resultados para conferência\n",
    "print(\"INSERT INTO operations\\n\\t\\tVALUES \", end=\" \")\n",
    "for i in df.index:\n",
    "    print(\"(\", df[\"id\"][i],\", '\", df[\"date\"][i], \"', \", df[\"price\"][i], \", \", df[\"installments\"][i], \", \",df[\"id_products\"][i], \", \", df[\"id_categories\"][i], \", \", df[\"id_destinations\"][i], \", \", df[\"id_buytypes\"][i], \", \", df[\"id_accounts\"][i], sep= \"\", end=\"),\\n\\t\\t\")\n",
    "print (\";\")"
   ]
  },
  {
   "cell_type": "code",
   "execution_count": null,
   "metadata": {},
   "outputs": [],
   "source": [
    "# para exportar o excel final:\n",
    "# df.to_excel(\"dataframeGastos.xlsx\", index = False)"
   ]
  }
 ],
 "metadata": {
  "interpreter": {
   "hash": "b1ce5edfe349102f4979182849532dee83709e779b8c1639132062335d7c033c"
  },
  "kernelspec": {
   "display_name": "Python 3.10.1 64-bit ('env': venv)",
   "language": "python",
   "name": "python3"
  },
  "language_info": {
   "codemirror_mode": {
    "name": "ipython",
    "version": 3
   },
   "file_extension": ".py",
   "mimetype": "text/x-python",
   "name": "python",
   "nbconvert_exporter": "python",
   "pygments_lexer": "ipython3",
   "version": "3.10.2"
  },
  "orig_nbformat": 4
 },
 "nbformat": 4,
 "nbformat_minor": 2
}
