{
 "cells": [
  {
   "cell_type": "code",
   "execution_count": null,
   "metadata": {},
   "outputs": [],
   "source": [
    "import pandas as pd\n",
    "import numpy as np\n",
    "# import dataframe gastos\n",
    "df = pd.read_excel(\"C:/Users/julio/OneDrive/Documentos/codes/vidhya/gastosPY.xlsx\")\n",
    "#list columns\n",
    "print(df.columns)"
   ]
  },
  {
   "cell_type": "code",
   "execution_count": null,
   "metadata": {},
   "outputs": [],
   "source": [
    "from collections import defaultdict\n",
    "# adiciona o id na coluna apropriada, feito com loop devido ao grande número de dados\n",
    "# cria um dataframe apenas para o destino e o id\n",
    "account_df = df[[\"id_account\", \"account\"]]\n",
    "# cria uma variável com a função defaultdict, para a criação das ids. É necessário o len(temp)+1 para o primeiro id ser 1.\n",
    "temp = defaultdict(lambda: len(temp)+1)\n",
    "# loop adicionando os ids conforme o elemento na coluna de destino\n",
    "account_df[\"id_account\"] = [temp[ele] for ele in account_df[\"account\"]]\n",
    "# aplica o id na coluna do dataframe original\n",
    "df[\"id_account\"] = account_df['id_account']\n",
    "# apaga os valores nulos para o print de insert into\n",
    "account_df = account_df.dropna().drop_duplicates()\n",
    "# loop com o print dos resultados formatados para sql\n",
    "print(\"INSERT INTO account\\n\\t\\tVALUES\", end=\" \")\n",
    "for i in account_df.index:\n",
    "    print(\"(\", account_df[\"id_account\"][i],\", '\", account_df[\"account\"][i], sep= \"\", end=\"'),\\n\\t\\t\")"
   ]
  },
  {
   "cell_type": "code",
   "execution_count": null,
   "metadata": {},
   "outputs": [],
   "source": [
    "# cria um dataframe apenas para o tipo de compra e o id\n",
    "buytype_df = df[[\"id_buytype\", \"buytype\"]]\n",
    "# cria uma variável com a função defaultdict, para a criação das ids. É necessário outra variável temp para que o id não seja a continuação do anterior.\n",
    "temp1 = defaultdict(lambda: len(temp1)+1)\n",
    "# loop adicionando os ids conforme o elemento na coluna de destino\n",
    "buytype_df[\"id_buytype\"] = [temp1[ele] for ele in buytype_df[\"buytype\"]]\n",
    "# aplica o id na coluna do dataframe original\n",
    "df[\"id_buytype\"] = buytype_df['id_buytype']\n",
    "# apaga os valores nulos e duplicados\n",
    "buytype_df = buytype_df.dropna().drop_duplicates()\n",
    "# loop com o print dos resultados formatados para sql\n",
    "print(\"INSERT INTO buytype\\n\\t\\tVALUES\", end=\" \")\n",
    "for i in buytype_df.index:\n",
    "    print(\"(\", df[\"id_buytype\"][i],\", '\", df[\"buytype\"][i], sep= \"\", end=\"'),\\n\\t\\t\")"
   ]
  },
  {
   "cell_type": "code",
   "execution_count": null,
   "metadata": {},
   "outputs": [],
   "source": [
    "# cria um dataframe apenas para o tipo de compra e o id\n",
    "installment_df = df[[\"id_installment\", \"installment\"]]\n",
    "# cria uma variável com a função defaultdict, para a criação das ids. É necessário outra variável temp para que o id não seja a continuação do anterior.\n",
    "temp2 = defaultdict(lambda: len(temp2)+1)\n",
    "# loop adicionando os ids conforme o elemento na coluna de destino\n",
    "installment_df[\"id_installment\"] = [temp2[ele] for ele in installment_df[\"installment\"]]\n",
    "# aplica o id na coluna do dataframe original\n",
    "df[\"id_installment\"] = installment_df['id_installment']\n",
    "# apaga os valores nulos e duplicados\n",
    "installment_df = installment_df.dropna().drop_duplicates()\n",
    "# loop com o print dos resultados formatados para sql\n",
    "print(\"INSERT INTO installment\\n\\t\\tVALUES\", end=\" \")\n",
    "for i in installment_df.index:\n",
    "    print(\"(\", df[\"id_installment\"][i],\", '\", df[\"installment\"][i], sep= \"\", end=\"'),\\n\\t\\t\")"
   ]
  },
  {
   "cell_type": "code",
   "execution_count": null,
   "metadata": {},
   "outputs": [],
   "source": [
    "# cria um dataframe apenas para a categoria e o id\n",
    "category_df = df[[\"id_category\", \"category\"]]\n",
    "# cria uma variável com a função defaultdict, para a criação das ids. É necessário outra variável temp para que o id não seja a continuação do anterior.\n",
    "temp3 = defaultdict(lambda: len(temp3)+1)\n",
    "# loop adicionando os ids conforme o elemento na coluna de destino\n",
    "category_df[\"id_category\"] = [temp3[ele] for ele in category_df[\"category\"]]\n",
    "# aplica o id na coluna do dataframe original\n",
    "df[\"id_category\"] = category_df['id_category']\n",
    "# apaga os valores nulos e duplicados\n",
    "category_df = category_df.dropna().drop_duplicates()\n",
    "# loop com o print dos resultados formatados para sql\n",
    "print(\"INSERT INTO category\\n\\t\\tVALUES\", end=\" \")\n",
    "for i in category_df.index:\n",
    "    print(\"(\", df[\"id_category\"][i],\", '\", df[\"category\"][i], sep= \"\", end=\"'),\\n\\t\\t\")"
   ]
  },
  {
   "cell_type": "code",
   "execution_count": null,
   "metadata": {},
   "outputs": [],
   "source": [
    "# adiciona o id na coluna apropriada, feito com loop devido ao grande número de dados\n",
    "# cria um dataframe apenas para o destino e o id\n",
    "destination_df = df[[\"destination\", \"id_destination\"]]\n",
    "# cria uma variável com a função defaultdict, para a criação das ids. É necessário outra variável temp para que o id não seja a continuação do anterior.\n",
    "temp4 = defaultdict(lambda: len(temp4)+1)\n",
    "# loop adicionando os ids conforme o elemento na coluna de destino\n",
    "destination_df[\"id_destination\"] = [temp4[ele] for ele in destination_df[\"destination\"]]\n",
    "# aplica o id na coluna do dataframe original\n",
    "df['id_destination'] = destination_df['id_destination']\n",
    "# apaga os valores nulos e duplicados\n",
    "destination_df = destination_df.dropna().drop_duplicates()\n",
    "# loop com o print dos resultados formatados para sql\n",
    "print(\"INSERT INTO destination\\n\\t\\tVALUES\", end=\" \")\n",
    "for i in destination_df.index:\n",
    "    print(\"(\", df[\"id_destination\"][i],\", '\", df[\"destination\"][i], sep= \"\", end=\"'),\\n\\t\\t\")"
   ]
  },
  {
   "cell_type": "code",
   "execution_count": null,
   "metadata": {},
   "outputs": [],
   "source": [
    "# adiciona o id na coluna apropriada, feito com loop\n",
    "# cria um dataframe apenas para o produto e o id\n",
    "product_df = df[[\"product\", \"id_product\"]]\n",
    "# cria outra variável com a função defaultdict, para a criação das ids. É necessário outra variável temp para que o id não seja a continuação do anterior.\n",
    "temp5 = defaultdict(lambda: len(temp5)+1)\n",
    "# loop adicionando os ids conforme o elemento na coluna de produto\n",
    "product_df[\"id_product\"] = [temp5[ele] for ele in product_df[\"product\"]]\n",
    "# aplica o id na coluna do dataframe original\n",
    "df[\"id_product\"] = product_df[\"id_product\"]\n",
    "# apaga os valores nulos e duplicados\n",
    "product_df = product_df.dropna().drop_duplicates()\n",
    "# loop com o print dos resultados para conferência\n",
    "print(\"INSERT INTO product\\n\\t\\tVALUES\", end=\" \")\n",
    "for i in product_df.index:\n",
    "    print(\"(\", product_df[\"id_product\"][i],\", '\", product_df[\"product\"][i], sep= \"\", end=\"'),\\n\\t\\t\")"
   ]
  },
  {
   "cell_type": "markdown",
   "metadata": {},
   "source": [
    "# também é possível utilizar os seguintes comandos para criar um arquivo csv e conferir os resultados:\n",
    "\n",
    "productFrame = pd.DataFrame.from_dict(product_df)\n",
    "\n",
    "productFrame.to_csv('product_df.csv', index = False)"
   ]
  },
  {
   "cell_type": "code",
   "execution_count": null,
   "metadata": {},
   "outputs": [],
   "source": [
    "# adiciona o id na coluna apropriada\n",
    "df[\"id\"] = df.index+1\n",
    "\n",
    "print(\"INSERT INTO operation\\n\\t\\tVALUES \", end=\" \")\n",
    "for i in df.index:\n",
    "    print(\"(\", df[\"id\"][i],\", '\", df[\"date\"][i], \"', \", df[\"price\"][i], \", \", df[\"installment\"][i], \", \",df[\"id_product\"][i], \", \", df[\"id_category\"][i], \", \", df[\"id_destination\"][i], \", \", df[\"id_buytype\"][i], \", \", df[\"id_account\"][i], sep= \"\", end=\"),\\n\\t\\t\")"
   ]
  }
 ],
 "metadata": {
  "interpreter": {
   "hash": "b1ce5edfe349102f4979182849532dee83709e779b8c1639132062335d7c033c"
  },
  "kernelspec": {
   "display_name": "Python 3.10.1 64-bit ('env': venv)",
   "language": "python",
   "name": "python3"
  },
  "language_info": {
   "codemirror_mode": {
    "name": "ipython",
    "version": 3
   },
   "file_extension": ".py",
   "mimetype": "text/x-python",
   "name": "python",
   "nbconvert_exporter": "python",
   "pygments_lexer": "ipython3",
   "version": "3.10.1"
  },
  "orig_nbformat": 4
 },
 "nbformat": 4,
 "nbformat_minor": 2
}
