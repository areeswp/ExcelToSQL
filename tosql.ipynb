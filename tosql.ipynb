{
 "cells": [
  {
   "cell_type": "code",
<<<<<<< HEAD
   "execution_count": null,
   "metadata": {},
   "outputs": [],
=======
   "execution_count": 75,
   "metadata": {},
   "outputs": [
    {
     "data": {
      "text/plain": [
       "Index(['date', 'category', 'product', 'buytype', 'destination', 'account',\n",
       "       'price', 'installment'],\n",
       "      dtype='object')"
      ]
     },
     "execution_count": 75,
     "metadata": {},
     "output_type": "execute_result"
    }
   ],
>>>>>>> 7af89ee35cca27302e0581a247e5c4568702406d
   "source": [
    "import pandas as pd\n",
    "import numpy as np\n",
    "# import dataframe gastos\n",
    "df = pd.read_excel(\"gastosPY.xlsx\")\n",
    "#lista as colunas\n",
    "df.columns"
   ]
  },
  {
   "cell_type": "code",
<<<<<<< HEAD
   "execution_count": null,
   "metadata": {},
   "outputs": [],
=======
   "execution_count": 76,
   "metadata": {},
   "outputs": [
    {
     "name": "stdout",
     "output_type": "stream",
     "text": [
      "INSERT INTO account\n",
      "\t\tVALUES (1, 'Nubank Crédito'),\n",
      "\t\t(2, 'Nubank Débito'),\n",
      "\t\t(3, 'Inter Crédito'),\n",
      "\t\t(4, 'Dinheiro'),\n",
      "\t\t(5, 'Boleto'),\n",
      "\t\t;\n"
     ]
    }
   ],
>>>>>>> 7af89ee35cca27302e0581a247e5c4568702406d
   "source": [
    "from collections import defaultdict\n",
    "# cria uma coluna de id, se não existir\n",
    "try:\n",
<<<<<<< HEAD
    "    df.insert(5, \"id_accounts\", np.nan) # o primeiro argumento da função é o número da coluna onde vai ser inserida\n",
=======
    "    df.insert(5, \"id_account\", np.nan) # o primeiro argumento da função é o número da coluna onde vai ser inserida\n",
>>>>>>> 7af89ee35cca27302e0581a247e5c4568702406d
    "except:\n",
    "    pass\n",
    "# cria uma variável com a função defaultdict, para a criação das ids. É necessário o len(temp)+1 para o primeiro id ser 1.\n",
    "temp = defaultdict(lambda: len(temp)+1)\n",
    "# loop adicionando os ids conforme o elemento na coluna de destino\n",
<<<<<<< HEAD
    "df[\"id_accounts\"] = [temp[ele] for ele in df[\"accounts\"]]\n",
    "# passa os valores únicos de id para outro dataframe (sem valores nulos nem duplicados)\n",
    "account_df = df[['id_accounts', 'accounts']].dropna().drop_duplicates()\n",
    "# formatação PostgreSQL e loop com o print dos resultados para conferência\n",
    "print(\"INSERT INTO accounts\\n\\t\\tVALUES\", end=\" \")\n",
    "for i in account_df.index:\n",
    "    print(\"(\", account_df[\"id_accounts\"][i],\", '\", df[\"accounts\"][i], sep= \"\", end=\"'),\\n\\t\\t\")\n",
=======
    "df[\"id_account\"] = [temp[ele] for ele in df[\"account\"]]\n",
    "# passa os valores únicos de id para outro dataframe (sem valores nulos nem duplicados)\n",
    "account_df = df[['id_account', 'account']].dropna().drop_duplicates()\n",
    "# formatação PostgreSQL e loop com o print dos resultados para conferência\n",
    "print(\"INSERT INTO account\\n\\t\\tVALUES\", end=\" \")\n",
    "for i in account_df.index:\n",
    "    print(\"(\", account_df[\"id_account\"][i],\", '\", df[\"account\"][i], sep= \"\", end=\"'),\\n\\t\\t\")\n",
>>>>>>> 7af89ee35cca27302e0581a247e5c4568702406d
    "print (\";\")"
   ]
  },
  {
   "cell_type": "code",
<<<<<<< HEAD
   "execution_count": null,
   "metadata": {},
   "outputs": [],
   "source": [
    "# cria uma coluna de id, se não existir\n",
    "try:\n",
    "    df.insert(3, \"id_buytypes\", np.nan) # o primeiro argumento da função é o número da coluna onde vai ser inserida\n",
=======
   "execution_count": 77,
   "metadata": {},
   "outputs": [
    {
     "name": "stdout",
     "output_type": "stream",
     "text": [
      "INSERT INTO buytype\n",
      "\t\tVALUES (1, 'Internet'),\n",
      "\t\t(2, 'Pessoalmente'),\n",
      "\t\t(3, 'Assinatura'),\n",
      "\t\t;\n"
     ]
    }
   ],
   "source": [
    "# cria uma coluna de id, se não existir\n",
    "try:\n",
    "    df.insert(3, \"id_buytype\", np.nan) # o primeiro argumento da função é o número da coluna onde vai ser inserida\n",
>>>>>>> 7af89ee35cca27302e0581a247e5c4568702406d
    "except:\n",
    "    pass\n",
    "#buytype_df = df[[\"id_buytype\", \"buytype\"]]\n",
    "# cria uma variável com a função defaultdict, para a criação das ids. É necessário outra variável temp para que o id não seja a continuação do anterior.\n",
    "temp1 = defaultdict(lambda: len(temp1)+1)\n",
    "# loop adicionando os ids conforme o elemento na coluna de destino\n",
<<<<<<< HEAD
    "df[\"id_buytypes\"] = [temp1[ele] for ele in df[\"buytypes\"]]\n",
    "# passa os valores únicos de id para outro dataframe (sem valores nulos nem duplicados)\n",
    "buytype_df = df[[\"id_buytypes\", \"buytypes\"]].dropna().drop_duplicates()\n",
    "# formatação PostgreSQL e loop com o print dos resultados para conferência\n",
    "print(\"INSERT INTO buytypes\\n\\t\\tVALUES\", end=\" \")\n",
    "for i in buytype_df.index:\n",
    "    print(\"(\", df[\"id_buytypes\"][i],\", '\", df[\"buytypes\"][i], sep= \"\", end=\"'),\\n\\t\\t\")\n",
=======
    "df[\"id_buytype\"] = [temp1[ele] for ele in df[\"buytype\"]]\n",
    "# passa os valores únicos de id para outro dataframe (sem valores nulos nem duplicados)\n",
    "buytype_df = df[[\"id_buytype\", \"buytype\"]].dropna().drop_duplicates()\n",
    "# formatação PostgreSQL e loop com o print dos resultados para conferência\n",
    "print(\"INSERT INTO buytype\\n\\t\\tVALUES\", end=\" \")\n",
    "for i in buytype_df.index:\n",
    "    print(\"(\", df[\"id_buytype\"][i],\", '\", df[\"buytype\"][i], sep= \"\", end=\"'),\\n\\t\\t\")\n",
>>>>>>> 7af89ee35cca27302e0581a247e5c4568702406d
    "print (\";\")"
   ]
  },
  {
   "cell_type": "code",
<<<<<<< HEAD
   "execution_count": null,
   "metadata": {},
   "outputs": [],
   "source": [
    "# cria uma coluna de id, se não existir\n",
    "try:\n",
    "    df.insert(1, \"id_categories\", np.nan) # o primeiro argumento da função é o número da coluna onde vai ser inserida\n",
=======
   "execution_count": 78,
   "metadata": {},
   "outputs": [
    {
     "name": "stdout",
     "output_type": "stream",
     "text": [
      "INSERT INTO category\n",
      "\t\tVALUES (1, 'Casa'),\n",
      "\t\t(2, 'Comunicação'),\n",
      "\t\t(3, 'Transporte'),\n",
      "\t\t(4, 'Cafés e Lanches'),\n",
      "\t\t(5, 'Streaming'),\n",
      "\t\t(6, 'Presentes'),\n",
      "\t\t(7, 'Lazer'),\n",
      "\t\t(8, 'Saúde e Beleza'),\n",
      "\t\t(9, 'Roupas'),\n",
      "\t\t(10, 'Pets'),\n",
      "\t\t(11, 'Bebidas'),\n",
      "\t\t;\n"
     ]
    }
   ],
   "source": [
    "# cria uma coluna de id, se não existir\n",
    "try:\n",
    "    df.insert(1, \"id_category\", np.nan) # o primeiro argumento da função é o número da coluna onde vai ser inserida\n",
>>>>>>> 7af89ee35cca27302e0581a247e5c4568702406d
    "except:\n",
    "    pass\n",
    "# cria uma variável com a função defaultdict, para a criação das ids. É necessário outra variável temp para que o id não seja a continuação do anterior.\n",
    "temp3 = defaultdict(lambda: len(temp3)+1)\n",
    "# loop adicionando os ids conforme o elemento na coluna de destino\n",
<<<<<<< HEAD
    "df[\"id_categories\"] = [temp3[ele] for ele in df[\"categories\"]]\n",
    "# passa os valores únicos de id para outro dataframe (sem valores nulos nem duplicados)\n",
    "categories_df = df[[\"id_categories\", \"categories\"]].dropna().drop_duplicates()\n",
    "# formatação PostgreSQL e loop com o print dos resultados para conferência\n",
    "print(\"INSERT INTO categories\\n\\t\\tVALUES\", end=\" \")\n",
    "for i in categories_df.index:\n",
    "    print(\"(\", df[\"id_categories\"][i],\", '\", df[\"categories\"][i], sep= \"\", end=\"'),\\n\\t\\t\")\n",
=======
    "df[\"id_category\"] = [temp3[ele] for ele in df[\"category\"]]\n",
    "# passa os valores únicos de id para outro dataframe (sem valores nulos nem duplicados)\n",
    "category_df = df[[\"id_category\", \"category\"]].dropna().drop_duplicates()\n",
    "# formatação PostgreSQL e loop com o print dos resultados para conferência\n",
    "print(\"INSERT INTO category\\n\\t\\tVALUES\", end=\" \")\n",
    "for i in category_df.index:\n",
    "    print(\"(\", df[\"id_category\"][i],\", '\", df[\"category\"][i], sep= \"\", end=\"'),\\n\\t\\t\")\n",
>>>>>>> 7af89ee35cca27302e0581a247e5c4568702406d
    "print (\";\")"
   ]
  },
  {
   "cell_type": "code",
<<<<<<< HEAD
   "execution_count": null,
   "metadata": {},
   "outputs": [],
   "source": [
    "# cria uma coluna de id, se não existir\n",
    "try:\n",
    "    df.insert(6, \"id_destinations\", np.nan) # o primeiro argumento da função é o número da coluna onde vai ser inserida\n",
=======
   "execution_count": 79,
   "metadata": {},
   "outputs": [
    {
     "name": "stdout",
     "output_type": "stream",
     "text": [
      "INSERT INTO destination\n",
      "\t\tVALUES (1, 'Amazon'),\n",
      "\t\t(2, 'Nubank'),\n",
      "\t\t(3, 'Posto'),\n",
      "\t\t(4, 'Mercado'),\n",
      "\t\t(5, 'Disney'),\n",
      "\t\t(6, 'Boticário'),\n",
      "\t\t(7, 'Picpay'),\n",
      "\t\t(8, 'Farmácia'),\n",
      "\t\t(9, 'Facebook'),\n",
      "\t\t(10, 'Petiko'),\n",
      "\t\t(11, 'Sorveteria'),\n",
      "\t\t(12, 'Renner'),\n",
      "\t\t(13, 'Casas Bahia'),\n",
      "\t\t(14, 'Epic Games'),\n",
      "\t\t(15, 'Mercado Livre'),\n",
      "\t\t(16, 'Mercado Pago'),\n",
      "\t\t(17, 'Ponto Frio'),\n",
      "\t\t(18, 'Vinil na Net'),\n",
      "\t\t(19, 'Steam'),\n",
      "\t\t(20, 'Shopee'),\n",
      "\t\t;\n"
     ]
    }
   ],
   "source": [
    "# cria uma coluna de id, se não existir\n",
    "try:\n",
    "    df.insert(6, \"id_destination\", np.nan) # o primeiro argumento da função é o número da coluna onde vai ser inserida\n",
>>>>>>> 7af89ee35cca27302e0581a247e5c4568702406d
    "except:\n",
    "    pass\n",
    "# cria uma variável com a função defaultdict, para a criação das ids. É necessário outra variável temp para que o id não seja a continuação do anterior.\n",
    "temp4 = defaultdict(lambda: len(temp4)+1)\n",
    "# loop adicionando os ids conforme o elemento na coluna de destino\n",
<<<<<<< HEAD
    "df[\"id_destinations\"] = [temp4[ele] for ele in df[\"destinations\"]]\n",
    "# passa os valores únicos de id para outro dataframe (sem valores nulos nem duplicados)\n",
    "destinations_df = df[[\"id_destinations\", \"destinations\"]].dropna().drop_duplicates()\n",
    "# formatação PostgreSQL e loop com o print dos resultados para conferência\n",
    "print(\"INSERT INTO destinations\\n\\t\\tVALUES\", end=\" \")\n",
    "for i in destinations_df.index:\n",
    "    print(\"(\", df[\"id_destinations\"][i],\", '\", df[\"destinations\"][i], sep= \"\", end=\"'),\\n\\t\\t\")\n",
=======
    "df[\"id_destination\"] = [temp4[ele] for ele in df[\"destination\"]]\n",
    "# passa os valores únicos de id para outro dataframe (sem valores nulos nem duplicados)\n",
    "destination_df = df[[\"id_destination\", \"destination\"]].dropna().drop_duplicates()\n",
    "# formatação PostgreSQL e loop com o print dos resultados para conferência\n",
    "print(\"INSERT INTO destination\\n\\t\\tVALUES\", end=\" \")\n",
    "for i in destination_df.index:\n",
    "    print(\"(\", df[\"id_destination\"][i],\", '\", df[\"destination\"][i], sep= \"\", end=\"'),\\n\\t\\t\")\n",
>>>>>>> 7af89ee35cca27302e0581a247e5c4568702406d
    "print (\";\")"
   ]
  },
  {
   "cell_type": "code",
<<<<<<< HEAD
   "execution_count": null,
   "metadata": {},
   "outputs": [],
   "source": [
    "# cria uma coluna de id, se não existir\n",
    "try:\n",
    "    df.insert(3, \"id_products\", np.nan) # o primeiro argumento da função é o número da coluna onde vai ser inserida\n",
=======
   "execution_count": 80,
   "metadata": {},
   "outputs": [
    {
     "name": "stdout",
     "output_type": "stream",
     "text": [
      "INSERT INTO product\n",
      "\t\tVALUES (1, 'Controle Remoto'),\n",
      "\t\t(2, 'Recarga Celular'),\n",
      "\t\t(3, 'Gasolina'),\n",
      "\t\t(4, 'Café'),\n",
      "\t\t(5, 'DisneyPlus'),\n",
      "\t\t(6, 'Disneyplus'),\n",
      "\t\t(7, 'Presente'),\n",
      "\t\t(8, 'Livros'),\n",
      "\t\t(9, 'Acessórios'),\n",
      "\t\t(10, 'Farmácia'),\n",
      "\t\t(11, 'Camisa Futebol'),\n",
      "\t\t(12, 'Brinquedos'),\n",
      "\t\t(13, 'Sorvete'),\n",
      "\t\t(14, 'Vestuário'),\n",
      "\t\t(15, 'Jogo'),\n",
      "\t\t(16, 'Cerveja'),\n",
      "\t\t(17, 'Toca Disco'),\n",
      "\t\t(18, 'Disco de Vinil'),\n",
      "\t\t(19, 'Teste COVID'),\n",
      "\t\t(20, 'Fone sem fio'),\n",
      "\t\t(21, 'Prime'),\n",
      "\t\t(22, 'Combo Stream'),\n",
      "\t\t;\n"
     ]
    }
   ],
   "source": [
    "# cria uma coluna de id, se não existir\n",
    "try:\n",
    "    df.insert(3, \"id_product\", np.nan) # o primeiro argumento da função é o número da coluna onde vai ser inserida\n",
>>>>>>> 7af89ee35cca27302e0581a247e5c4568702406d
    "except:\n",
    "    pass\n",
    "# cria outra variável com a função defaultdict, para a criação das ids. É necessário outra variável temp para que o id não seja a continuação do anterior.\n",
    "temp5 = defaultdict(lambda: len(temp5)+1)\n",
    "# loop adicionando os ids conforme o elemento na coluna de produto\n",
<<<<<<< HEAD
    "df[\"id_products\"] = [temp5[ele] for ele in df[\"products\"]]\n",
    "# passa os valores únicos de id para outro dataframe (sem valores nulos nem duplicados)\n",
    "products_df = df[[\"id_products\", \"products\"]].dropna().drop_duplicates()\n",
    "# formatação PostgreSQL e loop com o print dos resultados para conferência\n",
    "print(\"INSERT INTO products\\n\\t\\tVALUES\", end=\" \")\n",
    "for i in products_df.index:\n",
    "    print(\"(\", products_df[\"id_products\"][i],\", '\", products_df[\"products\"][i], sep= \"\", end=\"'),\\n\\t\\t\")\n",
=======
    "df[\"id_product\"] = [temp5[ele] for ele in df[\"product\"]]\n",
    "# passa os valores únicos de id para outro dataframe (sem valores nulos nem duplicados)\n",
    "product_df = df[[\"id_product\", \"product\"]].dropna().drop_duplicates()\n",
    "# formatação PostgreSQL e loop com o print dos resultados para conferência\n",
    "print(\"INSERT INTO product\\n\\t\\tVALUES\", end=\" \")\n",
    "for i in product_df.index:\n",
    "    print(\"(\", product_df[\"id_product\"][i],\", '\", product_df[\"product\"][i], sep= \"\", end=\"'),\\n\\t\\t\")\n",
>>>>>>> 7af89ee35cca27302e0581a247e5c4568702406d
    "print (\";\")"
   ]
  },
  {
   "cell_type": "markdown",
   "metadata": {},
   "source": [
    "# também é possível utilizar os seguintes comandos para criar um arquivo csv e conferir os resultados:\n",
    "\n",
    "productFrame = pd.DataFrame.from_dict(product_df)\n",
    "\n",
    "productFrame.to_csv('product_df.csv', index = False)"
   ]
  },
  {
   "cell_type": "code",
<<<<<<< HEAD
   "execution_count": null,
   "metadata": {},
   "outputs": [],
=======
   "execution_count": 81,
   "metadata": {},
   "outputs": [
    {
     "name": "stdout",
     "output_type": "stream",
     "text": [
      "INSERT INTO operation\n",
      "\t\tVALUES  (1, '2021-01-04 00:00:00', 105.13, 1, 1, 1, 1, 1, 1),\n",
      "\t\t(2, '2021-01-10 00:00:00', 15.0, 1, 2, 2, 2, 1, 2),\n",
      "\t\t(3, '2021-01-11 00:00:00', 222.36, 1, 3, 3, 3, 2, 1),\n",
      "\t\t(4, '2021-01-11 00:00:00', 60.68, 1, 4, 4, 4, 2, 1),\n",
      "\t\t(5, '2021-01-22 00:00:00', 15.0, 1, 2, 2, 2, 1, 2),\n",
      "\t\t(6, '2021-01-23 00:00:00', 18.6, 1, 5, 5, 5, 3, 1),\n",
      "\t\t(7, '2021-02-09 00:00:00', 15.0, 1, 2, 2, 2, 1, 1),\n",
      "\t\t(8, '2021-02-22 00:00:00', 18.6, 2, 6, 5, 5, 3, 1),\n",
      "\t\t(9, '2021-02-23 00:00:00', 15.0, 2, 2, 2, 2, 1, 1),\n",
      "\t\t(10, '2021-03-02 00:00:00', 62.85, 1, 7, 6, 6, 2, 1),\n",
      "\t\t(11, '2021-03-04 00:00:00', 92.67, 1, 8, 7, 1, 1, 3),\n",
      "\t\t(12, '2021-03-05 00:00:00', 79.0, 1, 9, 2, 1, 1, 3),\n",
      "\t\t(13, '2021-03-10 00:00:00', 15.0, 1, 2, 2, 2, 1, 1),\n",
      "\t\t(14, '2021-03-15 00:00:00', 99.07, 1, 8, 7, 1, 1, 3),\n",
      "\t\t(15, '2021-03-24 00:00:00', 121.57, 1, 8, 7, 1, 1, 3),\n",
      "\t\t(16, '2021-03-24 00:00:00', 18.6, 3, 6, 5, 5, 3, 1),\n",
      "\t\t(17, '2021-03-25 00:00:00', 15.0, 2, 2, 2, 7, 1, 1),\n",
      "\t\t(18, '2021-04-01 00:00:00', 13.0, 1, 10, 8, 8, 2, 4),\n",
      "\t\t(19, '2021-04-05 00:00:00', 187.09, 1, 11, 9, 9, 1, 2),\n",
      "\t\t(20, '2021-04-08 00:00:00', 4.99, 1, 2, 2, 7, 1, 1),\n",
      "\t\t(21, '2021-04-14 00:00:00', 26.82, 1, 12, 10, 10, 1, 5),\n",
      "\t\t(22, '2021-04-17 00:00:00', 51.27, 1, 10, 8, 8, 2, 1),\n",
      "\t\t(23, '2021-04-22 00:00:00', 18.6, 4, 6, 5, 5, 3, 1),\n",
      "\t\t(24, '2021-04-23 00:00:00', 61.06, 1, 8, 7, 1, 1, 3),\n",
      "\t\t(25, '2021-04-25 00:00:00', 22.97, 1, 10, 8, 8, 2, 4),\n",
      "\t\t(26, '2021-04-26 00:00:00', 14.99, 2, 2, 2, 7, 1, 1),\n",
      "\t\t(27, '2021-05-02 00:00:00', 29.5, 1, 13, 4, 11, 2, 4),\n",
      "\t\t(28, '2021-05-09 00:00:00', 13.5, 1, 2, 2, 7, 1, 1),\n",
      "\t\t(29, '2021-05-13 00:00:00', 174.61, 1, 14, 9, 12, 1, 1),\n",
      "\t\t(30, '2021-05-14 00:00:00', 44.8, 1, 7, 6, 1, 1, 3),\n",
      "\t\t(31, '2021-05-14 00:00:00', 117.13, 1, 7, 6, 13, 1, 3),\n",
      "\t\t(32, '2021-05-21 00:00:00', 29.99, 1, 15, 7, 14, 1, 1),\n",
      "\t\t(33, '2021-05-22 00:00:00', 18.6, 5, 6, 5, 5, 3, 1),\n",
      "\t\t(34, '2021-05-26 00:00:00', 5.8, 2, 2, 2, 7, 1, 1),\n",
      "\t\t(35, '2021-05-31 00:00:00', 51.98, 1, 1, 1, 15, 1, 1),\n",
      "\t\t(36, '2021-06-02 00:00:00', 51.98, 2, 1, 1, 15, 1, 1),\n",
      "\t\t(37, '2021-06-05 00:00:00', 136.15, 1, 16, 11, 15, 1, 1),\n",
      "\t\t(38, '2021-06-09 00:00:00', 14.99, 1, 2, 2, 7, 1, 1),\n",
      "\t\t(39, '2021-06-14 00:00:00', 117.13, 2, 7, 6, 13, 1, 3),\n",
      "\t\t(40, '2021-06-17 00:00:00', 8.0, 2, 2, 2, 16, 1, 2),\n",
      "\t\t(41, '2021-06-21 00:00:00', 18.6, 6, 6, 5, 5, 3, 1),\n",
      "\t\t(42, '2021-06-23 00:00:00', 449.1, 1, 17, 7, 17, 1, 3),\n",
      "\t\t(43, '2021-06-23 00:00:00', 159.06, 1, 18, 7, 1, 1, 3),\n",
      "\t\t(44, '2021-07-05 00:00:00', 80.28, 1, 18, 7, 18, 1, 2),\n",
      "\t\t(45, '2021-07-08 00:00:00', 15.0, 1, 2, 2, 7, 1, 1),\n",
      "\t\t(46, '2021-07-14 00:00:00', 117.13, 3, 7, 6, 13, 1, 3),\n",
      "\t\t(47, '2021-07-22 00:00:00', 18.6, 7, 6, 5, 5, 3, 1),\n",
      "\t\t(48, '2021-07-22 00:00:00', 15.0, 2, 2, 2, 7, 1, 1),\n",
      "\t\t(49, '2021-07-23 00:00:00', 101.5, 1, 10, 8, 8, 2, 4),\n",
      "\t\t(50, '2021-07-28 00:00:00', 150.0, 1, 19, 8, 8, 2, 4),\n",
      "\t\t(51, '2021-07-31 00:00:00', 43.02, 1, 15, 7, 19, 1, 2),\n",
      "\t\t(52, '2021-08-09 00:00:00', 6.95, 1, 2, 2, 7, 1, 1),\n",
      "\t\t(53, '2021-08-20 00:00:00', 18.6, 8, 6, 5, 5, 3, 1),\n",
      "\t\t(54, '2021-08-26 00:00:00', 14.99, 2, 2, 2, 7, 1, 1),\n",
      "\t\t(55, '2021-09-04 00:00:00', 16.99, 1, 10, 8, 8, 2, 4),\n",
      "\t\t(56, '2021-09-09 00:00:00', 18.13, 1, 20, 7, 20, 1, 5),\n",
      "\t\t(57, '2021-09-10 00:00:00', 15.0, 1, 2, 2, 2, 1, 1),\n",
      "\t\t(58, '2021-09-18 00:00:00', 18.6, 9, 6, 5, 5, 3, 1),\n",
      "\t\t(59, '2021-09-19 00:00:00', 89.0, 12, 21, 5, 1, 3, 1),\n",
      "\t\t(60, '2021-09-21 00:00:00', 0.5, 1, 22, 5, 15, 3, 1),\n",
      "\t\t(61, '2021-09-24 00:00:00', 15.0, 2, 2, 2, 2, 1, 1),\n",
      "\t\t(62, '2021-10-08 00:00:00', 15.0, 1, 2, 2, 2, 1, 1),\n",
      "\t\t(63, '2021-10-21 00:00:00', 13.9, 2, 22, 5, 15, 3, 1),\n",
      "\t\t(64, '2021-10-21 00:00:00', 15.0, 2, 2, 2, 2, 1, 1),\n",
      "\t\t(65, '2021-10-23 00:00:00', 43.97, 1, 10, 8, 8, 2, 4),\n",
      "\t\t(66, '2021-10-28 00:00:00', 63.16, 1, 8, 7, 1, 1, 3),\n",
      "\t\t(67, '2021-11-05 00:00:00', 15.0, 1, 2, 2, 2, 1, 1),\n",
      "\t\t(68, '2021-11-21 00:00:00', 13.9, 3, 22, 5, 15, 3, 1),\n",
      "\t\t(69, '2021-11-22 00:00:00', 15.0, 2, 2, 2, 2, 1, 1),\n",
      "\t\t(70, '2021-12-07 00:00:00', 15.0, 1, 2, 2, 2, 1, 1),\n",
      "\t\t(71, '2021-12-18 00:00:00', 50.0, 1, 7, 6, 4, 2, 1),\n",
      "\t\t(72, '2021-12-19 00:00:00', 13.9, 4, 22, 5, 15, 3, 1),\n",
      "\t\t(73, '2021-12-22 00:00:00', 15.0, 2, 2, 2, 2, 1, 1),\n",
      "\t\t;\n"
     ]
    }
   ],
>>>>>>> 7af89ee35cca27302e0581a247e5c4568702406d
   "source": [
    "# cria uma coluna de id, se não existir, e a preenche\n",
    "try: \n",
    "    df.insert(0, \"id\", np.nan) # o primeiro argumento da função é o número da coluna onde vai ser inserida\n",
    "except:\n",
    "    pass\n",
    "df[\"id\"] = df.index+1\n",
    "# formatação PostgreSQL e loop com o print dos resultados para conferência\n",
<<<<<<< HEAD
    "print(\"INSERT INTO operations\\n\\t\\tVALUES \", end=\" \")\n",
    "for i in df.index:\n",
    "    print(\"(\", df[\"id\"][i],\", '\", df[\"date\"][i], \"', \", df[\"price\"][i], \", \", df[\"installments\"][i], \", \",df[\"id_products\"][i], \", \", df[\"id_categories\"][i], \", \", df[\"id_destinations\"][i], \", \", df[\"id_buytypes\"][i], \", \", df[\"id_accounts\"][i], sep= \"\", end=\"),\\n\\t\\t\")\n",
=======
    "print(\"INSERT INTO operation\\n\\t\\tVALUES \", end=\" \")\n",
    "for i in df.index:\n",
    "    print(\"(\", df[\"id\"][i],\", '\", df[\"date\"][i], \"', \", df[\"price\"][i], \", \", df[\"installment\"][i], \", \",df[\"id_product\"][i], \", \", df[\"id_category\"][i], \", \", df[\"id_destination\"][i], \", \", df[\"id_buytype\"][i], \", \", df[\"id_account\"][i], sep= \"\", end=\"),\\n\\t\\t\")\n",
>>>>>>> 7af89ee35cca27302e0581a247e5c4568702406d
    "print (\";\")"
   ]
  },
  {
   "cell_type": "code",
<<<<<<< HEAD
   "execution_count": null,
=======
   "execution_count": 82,
>>>>>>> 7af89ee35cca27302e0581a247e5c4568702406d
   "metadata": {},
   "outputs": [],
   "source": [
    "# para exportar o excel final:\n",
    "# df.to_excel(\"dataframeGastos.xlsx\", index = False)"
   ]
  }
 ],
 "metadata": {
  "interpreter": {
   "hash": "b1ce5edfe349102f4979182849532dee83709e779b8c1639132062335d7c033c"
  },
  "kernelspec": {
   "display_name": "Python 3.10.1 64-bit ('env': venv)",
   "language": "python",
   "name": "python3"
  },
  "language_info": {
   "codemirror_mode": {
    "name": "ipython",
    "version": 3
   },
   "file_extension": ".py",
   "mimetype": "text/x-python",
   "name": "python",
   "nbconvert_exporter": "python",
   "pygments_lexer": "ipython3",
<<<<<<< HEAD
   "version": "3.10.2"
=======
   "version": "3.10.1"
>>>>>>> 7af89ee35cca27302e0581a247e5c4568702406d
  },
  "orig_nbformat": 4
 },
 "nbformat": 4,
 "nbformat_minor": 2
}
